{
  "nbformat": 4,
  "nbformat_minor": 0,
  "metadata": {
    "colab": {
      "provenance": []
    },
    "kernelspec": {
      "name": "python3",
      "display_name": "Python 3"
    },
    "language_info": {
      "name": "python"
    }
  },
  "cells": [
    {
      "cell_type": "code",
      "source": [
        "!pip install huggingface_hub"
      ],
      "metadata": {
        "id": "xALv0nioso0C"
      },
      "execution_count": null,
      "outputs": []
    },
    {
      "cell_type": "code",
      "source": [
        "from huggingface_hub import InferenceClient"
      ],
      "metadata": {
        "id": "taQaBz2H6-KW"
      },
      "execution_count": 9,
      "outputs": []
    },
    {
      "cell_type": "code",
      "source": [
        "# Get HF Key\n",
        "from google.colab import userdata\n",
        "hugging_face_key = userdata.get('HF_TOKEN')"
      ],
      "metadata": {
        "id": "0mAmqT_E7HU2"
      },
      "execution_count": 10,
      "outputs": []
    },
    {
      "cell_type": "code",
      "execution_count": 11,
      "metadata": {
        "id": "Dl_dTlTg67iy"
      },
      "outputs": [],
      "source": [
        "model_id = \"Helsinki-NLP/opus-mt-en-hi\"\n",
        "client = InferenceClient(model=model_id, token= hugging_face_key)"
      ]
    },
    {
      "cell_type": "code",
      "source": [
        "hindi_translation = client.translation(\"What did you learn about AI yesterday?\")"
      ],
      "metadata": {
        "id": "ybO_ONav7KuE"
      },
      "execution_count": 12,
      "outputs": []
    },
    {
      "cell_type": "code",
      "source": [
        "print(hindi_translation.translation_text)"
      ],
      "metadata": {
        "colab": {
          "base_uri": "https://localhost:8080/"
        },
        "id": "S0tGJO6z7VbH",
        "outputId": "d841039f-1a4f-4d25-f8c4-1be9bead8aff"
      },
      "execution_count": 13,
      "outputs": [
        {
          "output_type": "stream",
          "name": "stdout",
          "text": [
            "तुमने कल एआई के बारे में क्या सीखा?\n"
          ]
        }
      ]
    }
  ]
}